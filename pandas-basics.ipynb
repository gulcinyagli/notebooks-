import pandas as pd

# Basit veri oluştur
data = {
    'Name': ['Alice', 'Bob', 'Charlie'],
    'Age': [25, 30, 35],
    'City': ['New York', 'London', 'Paris']
}

df = pd.DataFrame(data)

# İlk satırları görüntüle
print(df.head())

# Ortalama yaş
print("Average age:", df['Age'].mean())
