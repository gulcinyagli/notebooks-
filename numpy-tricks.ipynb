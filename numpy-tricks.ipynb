import numpy as np

# Rastgele veri oluşturma
np.random.seed(42)
data = np.random.randn(5, 4)  # 5x4 normal dağılımlı matris

# Satır ve sütun ortalamaları
row_means = data.mean(axis=1)
col_means = data.mean(axis=0)

# Standartlaştırma (Z-score)
z_score = (data - col_means) / data.std(axis=0)

# Boolean index ile filtreleme (örneğin ortalamadan büyük değerler)
high_values = data[data > data.mean()]

# Özet
print('Original Data:\n', data)
print('\nRow Means:', row_means)
print('\nColumn Means:', col_means)
print('\nZ-score Standardized:\n', z_score)
print('\nHigh Values:', high_values)
